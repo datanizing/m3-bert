{
  "nbformat": 4,
  "nbformat_minor": 0,
  "metadata": {
    "kernelspec": {
      "display_name": "Python 3",
      "language": "python",
      "name": "python3"
    },
    "language_info": {
      "codemirror_mode": {
        "name": "ipython",
        "version": 3
      },
      "file_extension": ".py",
      "mimetype": "text/x-python",
      "name": "python",
      "nbconvert_exporter": "python",
      "pygments_lexer": "ipython3",
      "version": "3.8.5"
    },
    "varInspector": {
      "cols": {
        "lenName": 16,
        "lenType": 16,
        "lenVar": 40
      },
      "kernels_config": {
        "python": {
          "delete_cmd_postfix": "",
          "delete_cmd_prefix": "del ",
          "library": "var_list.py",
          "varRefreshCmd": "print(var_dic_list())"
        },
        "r": {
          "delete_cmd_postfix": ") ",
          "delete_cmd_prefix": "rm(",
          "library": "var_list.r",
          "varRefreshCmd": "cat(var_dic_list()) "
        }
      },
      "types_to_exclude": [
        "module",
        "function",
        "builtin_function_or_method",
        "instance",
        "_Feature"
      ],
      "window_display": false
    },
    "colab": {
      "name": "08-Question_Answering.ipynb",
      "provenance": []
    },
    "accelerator": "GPU"
  },
  "cells": [
    {
      "cell_type": "markdown",
      "metadata": {
        "id": "cd9G4dJQeLVX"
      },
      "source": [
        "# Question Answering"
      ]
    },
    {
      "cell_type": "markdown",
      "metadata": {
        "id": "PkVLKBd1eLVc"
      },
      "source": [
        "Wie du selbst gesehen hast, lassen sich BERT bzw. die davon abgeleiteten Transfer-Learning-Modelle leicht mithilfe des sog. *Finetunings* an Spezialaufgaben anpassen.\n",
        "\n",
        "Eine sehr spezielle Aufgabe ist das sog. *Question Answering*. Dabei wird das Modell auf einen Korpus angepasst, der Dokumente, Fragen zu diesen Dokumenten und die jeweiligen Antworten (in den Dokumenten) enthält. Das passiert mit der sog. *Next Sentence Prediction*.\n",
        "\n",
        "Wenn du solche Modelle nutzt, kannst du dir zu einem vorhandenen Dokument und einer Frage die richtig Antwort vorhersagen lassen."
      ]
    },
    {
      "cell_type": "markdown",
      "metadata": {
        "id": "E6W1kb4CeLVd"
      },
      "source": [
        "## Modell vorbereiten"
      ]
    },
    {
      "cell_type": "markdown",
      "metadata": {
        "id": "dKI1a27GeLVe"
      },
      "source": [
        "Für Question Answering brauchst du ein eigenes Modell. Am besten legst du das als Pipeline an, damit das Modell gleich richtig tokenisieren und vorhersagen kann:"
      ]
    },
    {
      "cell_type": "code",
      "metadata": {
        "id": "deaWD09ReLVe"
      },
      "source": [
        "!pip install transformers"
      ],
      "execution_count": null,
      "outputs": []
    },
    {
      "cell_type": "code",
      "metadata": {
        "id": "TmH_4LbQeLVg"
      },
      "source": [
        "from transformers import pipeline\n",
        "\n",
        "model_name = \"Sahajtomar/German-question-answer-Electra\"\n",
        "qa = pipeline(\"question-answering\", model=model_name,\n",
        "              tokenizer=model_name, device=0)"
      ],
      "execution_count": null,
      "outputs": []
    },
    {
      "cell_type": "markdown",
      "metadata": {
        "id": "PyZR_qz5eLVh"
      },
      "source": [
        "## Fragen zu Heise-Artikeln beanworten"
      ]
    },
    {
      "cell_type": "markdown",
      "metadata": {
        "id": "LEl-DnkyeLVi"
      },
      "source": [
        "Am besten beginnst du mit einem Artikel aus dem Newsticker und versuchst, ob das Modell dir dazu Fragen beantworten kann:"
      ]
    },
    {
      "cell_type": "code",
      "metadata": {
        "id": "s77Zyj0MeLVj"
      },
      "source": [
        "text = \"\"\"Apple-Chef fordert klimaneutrale Wirtschaft\n",
        "\n",
        "Die \"Zukunft des Planeten\" und Profit schließen sich nicht aus, \n",
        "meint Tim Cook –  Konzerne und Regierungen sollten endlich die Kurve \n",
        "beim Klimaschutz kriegen.\n",
        "\n",
        "Apple-Chef Tim Cook hat Regierungen und Unternehmen dazu aufgerufen, \n",
        "sich gegen den Klimawandel zu stemmen. In diesem Moment \"historischer \n",
        "Dringlichkeit\" müssten Konzerne endlich handeln, betonte der Apple-Chef \n",
        "auf dem Climate Ambition Summit 2020, den die Vereinten Nationen gemeinsam \n",
        "mit mehreren Ländern ausrichteten. Apple sei es bei den eigenen Einrichtungen \n",
        "bereits gelungen, klimaneutral zu arbeiten. Auch der Ausstoß klimaschädlichen\n",
        "Kohlenstoffdioxids bei den Zulieferern soll drastisch reduziert werden.\n",
        "\n",
        "Man helfe aktuell 95 Zulieferern dabei, komplett auf erneuerbare Energien\n",
        "umzusatteln, so Cook. Das Unternehmen will bis 2030 vollständig klimaneutral \n",
        "arbeiten – die riesige Lieferkette eingerechnet.\n",
        "\n",
        "Man müsse sich nicht zwischen Unternehmensgewinnen und \"der Zukunft des \n",
        "Planeten\" entscheiden, erläuterte Cook, \"jede neue grüne Innovation\" sei \n",
        "der Beweis, das sich beides vereinbaren lässt. Der CEO rief andere Unternehmen \n",
        "dazu auf, 2021 beim Klimaschutz \"die Kurve zu kriegen\". Es sei möglich, \n",
        "gemeinsam den Übergang zu einer klimaneutralen Wirtschaft zu erreichen – \n",
        "wenn nicht länger nur \"an den Rändern\" herumgedoktort wird. Apple wolle \n",
        "ein \"Partner\" für diesen Übergang sein.\n",
        "\n",
        "Großbritannien, das den Klimagipfel mit ausrichtete, hatte Apple zuletzt \n",
        "wegen seines Geräte-Designs und der Reparaturvorgaben scharf kritisiert: \n",
        "Der iPhone-Hersteller sorge unnötig für zusätzlichen Elektroschrott durch \n",
        "immer schwerer zu reparierende Geräte, bei denen der Neukauf oft attraktiver \n",
        "als die Instandsetzung sei, beklagten britische Abgeordnete des \n",
        "Umweltausschusses im britischen Unterhaus. Apple zeigte sich \"enttäuscht\" \n",
        "über den Bericht, für Kunden gebe es mehr Reparatur- und Recycling-Optionen \n",
        "denn je.\n",
        "\n",
        "Apple will recyclete iPhones\n",
        "Cook betonte auf dem Klimagipfel auch, dass es Apples Ziel bleibe, keine \n",
        "neuen Rohstoffe mehr für die Produktion von Hardware fördern zu müssen, \n",
        "sondern in allen Bereichen auf Recycling zu setzen. Ein Zeitziel wurde \n",
        "hier nicht genannt. Apple betont seit längerem, saubere Energie könne \n",
        "langfristig auch wirtschaftlich sinnvoller für Konzerne sein. Andere \n",
        "US-IT-Riesen haben ebenfalls Klimaneutralität in Aussicht gestellt: \n",
        "Microsoft zielt ebenfalls auf das Jahr 2030 ab, Amazon auf 2040.\n",
        "\"\"\""
      ],
      "execution_count": null,
      "outputs": []
    },
    {
      "cell_type": "markdown",
      "metadata": {
        "id": "WerPe6PReLVk"
      },
      "source": [
        "Beginnen wir einfach:"
      ]
    },
    {
      "cell_type": "code",
      "metadata": {
        "id": "Vn9EP_hyeLVl"
      },
      "source": [
        "answer = qa(question=\"Wer ist der Chef von Apple?\", context=text)\n",
        "print(f\"Answer: '{answer['answer']}', Score {answer['score']}\")"
      ],
      "execution_count": null,
      "outputs": []
    },
    {
      "cell_type": "markdown",
      "metadata": {
        "id": "Y2q7ogU9eLVm"
      },
      "source": [
        "Das ist schon ziemlich beeindruckend. Versuche eine allgemeinere Frage:"
      ]
    },
    {
      "cell_type": "code",
      "metadata": {
        "id": "uGaLb06KeLVm"
      },
      "source": [
        "answer = qa(question=\"Was will Apple?\", context=text)\n",
        "print(f\"Answer: '{answer['answer']}', Score {answer['score']}\")"
      ],
      "execution_count": null,
      "outputs": []
    },
    {
      "cell_type": "markdown",
      "metadata": {
        "id": "1jGJWu7keLVm"
      },
      "source": [
        "Das ist sehr auf den Punkt gebracht. Mache es noch etwas schwieriger:"
      ]
    },
    {
      "cell_type": "code",
      "metadata": {
        "id": "ZgsiZvl0eLVn"
      },
      "source": [
        "answer = qa(question=\"Wer richtete den Klimagipfel aus?\", context=text)\n",
        "print(f\"Answer: '{answer['answer']}', Score {answer['score']}\")"
      ],
      "execution_count": null,
      "outputs": []
    },
    {
      "cell_type": "markdown",
      "metadata": {
        "id": "W0X6WtXweLVn"
      },
      "source": [
        "Wow, das ist schon wirklich gut!"
      ]
    },
    {
      "cell_type": "markdown",
      "metadata": {
        "id": "MB1tpRqNeLVn"
      },
      "source": [
        "## Fragen zu Wikipedia beantworten"
      ]
    },
    {
      "cell_type": "markdown",
      "metadata": {
        "id": "JJjAlY-PeLVn"
      },
      "source": [
        "Steige nun in den nächsten Level ein und nutze einen komplizierteren Text, nämlich einen Wikipedia Artikel über [Die Simpsons](https://de.wikipedia.org/wiki/Die_Simpsons)."
      ]
    },
    {
      "cell_type": "code",
      "metadata": {
        "id": "zrO2TyCUeLVo"
      },
      "source": [
        "!pip install readability-lxml"
      ],
      "execution_count": null,
      "outputs": []
    },
    {
      "cell_type": "code",
      "metadata": {
        "id": "uzwxyAJHeLVo"
      },
      "source": [
        "from readability import Document\n",
        "import requests\n",
        "from bs4 import BeautifulSoup\n",
        "doc = Document(requests.get(\"https://de.wikipedia.org/wiki/Die_Simpsons\", stream=True).text)\n",
        "soup = BeautifulSoup(doc.summary())            \n",
        "content = soup.text\n",
        "len(content)"
      ],
      "execution_count": null,
      "outputs": []
    },
    {
      "cell_type": "markdown",
      "metadata": {
        "id": "AzlqWw-ieLVo"
      },
      "source": [
        "Das sind immerhin fast 100 kB! Versuche nun, einfache Fragen dazu zu stellen:"
      ]
    },
    {
      "cell_type": "code",
      "metadata": {
        "id": "lI5aHJf0eLVo"
      },
      "source": [
        "answer = qa(question=\"Wie heißt der Bruder von Lisa?\", context=content)\n",
        "print(f\"Answer: '{answer['answer']}', Score {answer['score']}\")"
      ],
      "execution_count": null,
      "outputs": []
    },
    {
      "cell_type": "markdown",
      "metadata": {
        "id": "FxHC1Ah-eLVp"
      },
      "source": [
        "Das hat auch wieder sehr gut geklappt. Probiere, ob es auch mit etwas komplizierteren Fragen klappt:"
      ]
    },
    {
      "cell_type": "code",
      "metadata": {
        "id": "p-4p99H3eLVp"
      },
      "source": [
        "answer = qa(question=\"Wie heißen die Schwestern von Bart?\", context=content)\n",
        "print(f\"Answer: '{answer['answer']}', Score {answer['score']}\")"
      ],
      "execution_count": null,
      "outputs": []
    },
    {
      "cell_type": "markdown",
      "metadata": {
        "id": "GjWFuBhVeLVp"
      },
      "source": [
        "Auch sehr gut!\n",
        "\n",
        "Gehe nun weiter in die *Details der Simpsons*:"
      ]
    },
    {
      "cell_type": "code",
      "metadata": {
        "id": "aEBWXJ7QeLVp"
      },
      "source": [
        "answer = qa(question=\"Wie heißen die Schwestern von Marge?\", context=content)\n",
        "print(f\"Answer: '{answer['answer']}', Score {answer['score']}\")"
      ],
      "execution_count": null,
      "outputs": []
    },
    {
      "cell_type": "markdown",
      "metadata": {
        "id": "3jW9uh-YeLVp"
      },
      "source": [
        "Das stimmt leider nicht. Zwar stehen *Patty* und *Selma* in dem Wikipedia-Artikel drin, aber sie werden nicht als Marges Schwestern genannt. So hat das Modell wohl Marges Kinder ausgewählt - immerhin ist das richtig.\n",
        "\n",
        "Teste nun noch eine andere Datenquelle, nämlich [Raumschiff Enterprise](https://de.wikipedia.org/wiki/Raumschiff_Enterprise)."
      ]
    },
    {
      "cell_type": "code",
      "metadata": {
        "id": "j0CFGQFKeLVq"
      },
      "source": [
        "doc = Document(requests.get(\"https://de.wikipedia.org/wiki/Raumschiff_Enterprise\", stream=True).text)\n",
        "soup = BeautifulSoup(doc.summary())            \n",
        "content = soup.text\n",
        "len(content)"
      ],
      "execution_count": null,
      "outputs": []
    },
    {
      "cell_type": "markdown",
      "metadata": {
        "id": "vctkVAtYeLVq"
      },
      "source": [
        "Der Artikel ist etwas kürzer, versuche es auch hier mit Fragen:"
      ]
    },
    {
      "cell_type": "code",
      "metadata": {
        "id": "Zq3gGUIAeLVq"
      },
      "source": [
        "answer = qa(question=\"Wer spielt Spock?\", context=content)\n",
        "print(f\"Answer: '{answer['answer']}' with score {answer['score']}\")"
      ],
      "execution_count": null,
      "outputs": []
    },
    {
      "cell_type": "markdown",
      "metadata": {
        "id": "UhEMOFgkeLVq"
      },
      "source": [
        "Super! Geht es so gut weiter?"
      ]
    },
    {
      "cell_type": "code",
      "metadata": {
        "id": "1h0RgikGeLVq"
      },
      "source": [
        "answer = qa(question=\"Wer ist der Captain der Enterprise?\", context=content)\n",
        "\n",
        "print(f\"Answer: '{answer['answer']}' with score {answer['score']}\")"
      ],
      "execution_count": null,
      "outputs": []
    },
    {
      "cell_type": "markdown",
      "metadata": {
        "id": "s84KApsyeLVq"
      },
      "source": [
        "Leider nicht ganz. Das ist der Schauspieler von Captain Kirk."
      ]
    },
    {
      "cell_type": "markdown",
      "metadata": {
        "id": "MdhcsBWbeLVr"
      },
      "source": [
        "## Spaß mit Question Answering"
      ]
    },
    {
      "cell_type": "markdown",
      "metadata": {
        "id": "zDmOnrsheLVr"
      },
      "source": [
        "Fragen zu Texten beantworten zu lassen macht definitiv *Spaß*. Du musst nicht mehr den ganzen Text lesen und hast das Gefühl, dass der Computer dir wirklich Arbeit abnimmt. Das ist super!\n",
        "\n",
        "Die Anwendungsfälle sind allerdings noch nicht ganz so klar. Ein Chatbot könnte das gut verwenden, aber muss auf eine viel größere Datenbasis zugreifen, um überhaupt die richtigen Artikel zu finden. Oftmals kannst du mit einer gezielten Suche auch gute Ergebnisse erreichen und musst dir nicht immer Fragen überlegen.\n",
        "\n",
        "Zweifellos ist die Technologie aber sehr beeindruckend!"
      ]
    }
  ]
}